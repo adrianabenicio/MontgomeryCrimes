{
 "cells": [
  {
   "cell_type": "markdown",
   "metadata": {
    "collapsed": true
   },
   "source": [
    "# 1. Introduction\n",
    "\n",
    "In the past few missions, you've learned how to use Pandas to analyze data quickly and efficiently. You applied this knowledge by creating guided projects to solidify your knowledge. You'll go further in this project, and you'll build an end-to-end data analysis project on your own, using Pandas and Python.\n",
    "\n"
   ]
  },
  {
   "cell_type": "markdown",
   "metadata": {},
   "source": [
    "## 2. The data\n",
    "\n",
    "In this project, you'll be working with crime data from [Montgomery County, MD](https://en.wikipedia.org/wiki/Montgomery_County,_Maryland). Each row in the data is a crime reported by a law enforcement officer in <span style=\"background-color: #F9EBEA; color:##C0392B\">2013</span> and entered into a database.\n",
    "\n",
    "You'll want to download the data from the repository. After downloading the data, you'll want to create a new Jupyter notebook in the same folder, and ensure that any code or analysis you do on the data occurs in that notebook.\n",
    "\n",
    "You can load the data in and display the first <span style=\"background-color: #F9EBEA; color:##C0392B\">5</span> rows to get a better idea of the structure:\n",
    "\n",
    ">```python\n",
    "import pandas as pd\n",
    "crimes = pd.read_csv(\"MontgomeryCountyCrime2013.csv\")\n",
    "crimes.head()\n",
    "```"
   ]
  },
  {
   "cell_type": "markdown",
   "metadata": {},
   "source": [
    "You'll also want to display all of the column names with:\n",
    "\n",
    ">```python\n",
    "crimes.columns\n",
    "```\n",
    ">```python\n",
    "Index(['Incident ID', 'CR Number', 'Dispatch Date / Time', 'Class',\n",
    "       'Class Description', 'Police District Name', 'Block Address', 'City',\n",
    "       'State', 'Zip Code', 'Agency', 'Place', 'Sector', 'Beat', 'PRA',\n",
    "       'Start Date / Time', 'End Date / Time', 'Latitude', 'Longitude',\n",
    "       'Police District Number', 'Location', 'Address Number'],\n",
    "      dtype='object')\n",
    "```\n",
    "\n",
    "After displaying some of the data, make sure you look through and understand each column. It can be helpful to display the first few values in each column in order to understand it better. It can also be useful to perform a Google search to help give you context for columns. For example, looking up <span style=\"background-color: #F9EBEA; color:##C0392B\">Police District Number Montgomery County</span> bring you to this [page](https://www.montgomerycountymd.gov/pol/districts/map.html), which helps you understand them. Make sure to write up a Markdown cell explaining anything relevant that you learned.\n",
    "\n",
    "You'll also want to explore missing values in each column. Why do you think certain columns have missing values? Make sure to write up your thoughts on missing values, and how they'll impact your analysis.\n",
    "\n",
    "Also make sure to look at the format of each column. For example, <span style=\"background-color: #F9EBEA; color:##C0392B\">Zip Code</span> is a float column, but if you know about Zip codes in the US, you know that they're always integers. Keeping that this column is of the \"wrong\" type in mind will help you as you analyze the data."
   ]
  },
  {
   "cell_type": "markdown",
   "metadata": {},
   "source": [
    "## 3. Analyzing the times of crimes\n",
    "\n",
    "The  <span style=\"background-color: #F9EBEA; color:##C0392B\">Dispatch Date / Time</span> column looks very interesting, because it allows us to figure out when crimes are most likely to occur. You can use this column to answer questions like:\n",
    "\n",
    "- What day of the week are the most crimes committed on? (ie Monday, Tuesday, etc)\n",
    "- During what time of day are the most crimes committed?\n",
    "- During what month are the most crimes committed?\n",
    "\n",
    "You can answer these questions by first parsing the <span style=\"background-color: #F9EBEA; color:##C0392B\">Dispatch Date / Time</span> column using the [pandas.to_datetime](http://pandas.pydata.org/pandas-docs/stable/generated/pandas.to_datetime.html) function, like this:\n",
    "\n",
    ">```python\n",
    "d_time = pandas.to_datetime(crimes[\"Dispatch Date / Time\"])\n",
    "```\n",
    "\n",
    "After doing the type conversion, you'll need to extract the components of the datetime you're interested in. You can see documentation for this [here](http://pandas.pydata.org/pandas-docs/stable/api.html#datetimelike-properties). After the extraction, you can use the <span style=\"background-color: #F9EBEA; color:##C0392B\">pandas.Series.value_counts</span> method to count up the items you want.\n",
    "\n",
    "There is some nuance around counting up the time of day when crimes are committed. You'll have to decide how you want to define \"time of day\". This can be as simple as using the hour, or as complex as assigning categories to certain times, like \"morning\", \"afternoon\", \"evening\", and \"night\".\n",
    "\n",
    "As you answer these questions, make sure to document your code, and add in explanations after each cell. Your explanations should discuss the answer, along with anything interesting your discovered.\n",
    "\n",
    "Were you surprised by your findings? Why do you think that crimes follow the patterns that they do? It may be useful to do some research here to see if you can find support for your theories.\n",
    "\n",
    "After you're done, take a look at the <span style=\"background-color: #F9EBEA; color:##C0392B\">End Date / Time</span> and <span style=\"background-color: #F9EBEA; color:##C0392B\">Start Date / Time</span> columns. Are these different from the <span style=\"background-color: #F9EBEA; color:##C0392B\">Dispatch Date / Time</span> column? Would it be useful to use one or both of those columns to do this analysis instead?\n"
   ]
  },
  {
   "cell_type": "markdown",
   "metadata": {},
   "source": [
    "## 4. Analyzing locations of crimes\n",
    "\n",
    "There are a few columns that encode information about the location of crimes:\n",
    "\n",
    "- <span style=\"background-color: #F9EBEA; color:##C0392B\">Police District Name</span>\n",
    "- <span style=\"background-color: #F9EBEA; color:##C0392B\">Block Address</span>\n",
    "- <span style=\"background-color: #F9EBEA; color:##C0392B\">Zip Code</span>\n",
    "- <span style=\"background-color: #F9EBEA; color:##C0392B\">Sector</span>\n",
    "- <span style=\"background-color: #F9EBEA; color:##C0392B\">Beat</span>\n",
    "- <span style=\"background-color: #F9EBEA; color:##C0392B\">Latitude</span>\n",
    "- <span style=\"background-color: #F9EBEA; color:##C0392B\">Longitude</span>\n",
    "- <span style=\"background-color: #F9EBEA; color:##C0392B\">Police District Number</span>\n",
    "- <span style=\"background-color: #F9EBEA; color:##C0392B\">Location</span>\n",
    "- <span style=\"background-color: #F9EBEA; color:##C0392B\">Address Number</span>\n",
    "\n",
    "These columns have varying numbers of missing values, and varying granularity. Some of the columns represent areas with large granularity (like police districts), whereas some represent areas with small granularity, like <span style=\"background-color: #F9EBEA; color:##C0392B\">Latitude</span>, and <span style=\"background-color: #F9EBEA; color:##C0392B\">Longitude</span>.\n",
    "\n",
    "\n",
    "In order to decide which column to use to analyze the locations of crimes, you need to utilize the following criteria:\n",
    "\n",
    "- **Granularity**. Areas that are too small aren't great, because only a few crimes were committed inside them, which makes it hard to analyze and compare. For example, if I tell you that Silver Spring (a city in Montgomery County) is the place with the most crimes, you'll know to avoid that area. However, if I tell you that a 100 foot section of Silver Spring has the most crimes, it won't be as helpful (it's unlikely that you'll ever be in that 100 foot section).\n",
    "- **Comprehensibility**. You looked up the Police District map of Montgomery County before, so it's simple to tell what area corresponds to district <span style=\"background-color: #F9EBEA; color:##C0392B\">6</span>. However, what area does Beat <span style=\"background-color: #F9EBEA; color:##C0392B\">5M1</span> correspond to? You may be able to look this up, but it's harder to comprehend.\n",
    "- **Missing values**. If a column has a lot of missing values, that means that the conclusions you draw are less valid, because you don't know if the missing data is systematic (ie all data for a given district is missing) or random (equal amounts of data are missing from each district). You should try to select a column that has minimal missing values.\n",
    "\n",
    "Based on the above criteria, pick a column that you want to use to analyze location. After picking a column, see if you can answer these questions:\n",
    "\n",
    "- In what area did the most crimes occur? What physical locations (like cities) does this area correspond to?\n",
    "- Which area has the highest number of crimes per capita? You may be able to find population data per area online. For example, [this](https://www.montgomerycountymd.gov/POL/Resources/Files/crime/MCP2015AnnualCrimeReportFINAL.pdf) annual report has per-district populations towards the bottom.\n",
    "\n",
    "Make sure to write up the answers to these questions, along with your code, and explain why you reached the conclusions you did.\n"
   ]
  },
  {
   "cell_type": "code",
   "execution_count": 37,
   "metadata": {
    "collapsed": true,
    "scrolled": true
   },
   "outputs": [],
   "source": [
    "import pandas as pd\n",
    "import numpy as np\n",
    "import matplotlib.pyplot as plt\n",
    "import seaborn as sns\n",
    "%matplotlib inline\n",
    "\n",
    "crimes = pd.read_csv(\"MontgomeryCountyCrime2013.csv\")\n",
    "area_dsc = \"Police District Number\" # Área escolhida\n",
    "\n",
    "area = crimes[area_dsc]\n",
    "area_is_null = pd.isnull(area)\n",
    "area_not_null = area[~area_is_null]\n",
    "area_null = area[area_is_null]\n",
    "\n",
    "# 1) Percentual de valores nulos na coluna escolhida.\n",
    "percentage_null = len(area_null)*100/len(area_not_null)\n",
    "\n",
    "# 2) Remove as linhas em que a coluna escolhida está preenchida com nulo.\n",
    "crimes_area_not_null = crimes.dropna(axis=0, subset=[area_dsc])\n",
    "\n",
    "# 3) Quantidade de linhas agrupado por área.\n",
    "crimes_by_area = crimes_area_not_null.groupby(area_dsc)[area_dsc].count()\n",
    "#crimes_by_area.to_dict()\n",
    "\n",
    "# 4) Seleciona a área com maior ocorrência de crimes\n",
    "crimes_by_area_sorted = crimes_by_area.sort_values(inplace=False, ascending=False)\n",
    "area_most_crimes = crimes_by_area_sorted.index[0]\n",
    "\n",
    "# 5) Cidades distintas na área de maior ocorrência de crimes.\n",
    "locations = crimes_area_not_null[crimes_area_not_null[area_dsc] == area_most_crimes][\"City\"].unique()\n",
    "\n",
    "# 6) Divide a quantidade de crimes encontrados por área, no item 3, pela população da área.\n",
    "# ts = pd.Series(df['Value'].values, index=df['Date'])\n",
    "population_by_area = pd.Series([149118, 182883, 152991, 208263, 131391, 147486],\n",
    "        index=[\"1D\",\"2D\",\"3D\",\"4D\",\"5D\",\"6D\"])\n",
    "\n",
    "# 7) Crimes per capita\n",
    "crimes_per_capita = crimes_by_area.divide(population_by_area)"
   ]
  },
  {
   "cell_type": "code",
   "execution_count": 51,
   "metadata": {
    "scrolled": false
   },
   "outputs": [
    {
     "data": {
      "text/plain": [
       "<matplotlib.axes._subplots.AxesSubplot at 0x173544fd0f0>"
      ]
     },
     "execution_count": 51,
     "metadata": {},
     "output_type": "execute_result"
    },
    {
     "data": {
      "image/png": "[encoded data removed]",
      "text/plain": [
       "<matplotlib.figure.Figure at 0x17353a65390>"
      ]
     },
     "metadata": {},
     "output_type": "display_data"
    }
   ],
   "source": [
    "# 1) In what area did the most crimes occur?\n",
    "sns.barplot(x=crimes_by_area.index,y=crimes_by_area, color=\"indianred\")"
   ]
  },
  {
   "cell_type": "code",
   "execution_count": 39,
   "metadata": {},
   "outputs": [
    {
     "name": "stdout",
     "output_type": "stream",
     "text": [
      "['SILVER SPRING' 'BURTONSVILLE' 'TAKOMA PARK' 'CHEVY CHASE' 'SPENCERVILLE'\n",
      " 'LAUREL']\n"
     ]
    }
   ],
   "source": [
    "# 2) What physical locations (like cities) does this area correspond to?\n",
    "print(locations)"
   ]
  },
  {
   "cell_type": "code",
   "execution_count": 40,
   "metadata": {},
   "outputs": [
    {
     "data": {
      "text/plain": [
       "<matplotlib.axes._subplots.AxesSubplot at 0x173510b7588>"
      ]
     },
     "execution_count": 40,
     "metadata": {},
     "output_type": "execute_result"
    },
    {
     "data": {
      "image/png": "[encoded data removed]",
      "text/plain": [
       "<matplotlib.figure.Figure at 0x1734e20db70>"
      ]
     },
     "metadata": {},
     "output_type": "display_data"
    }
   ],
   "source": [
    "# 3) Which area has the highest number of crimes per capita?\n",
    "sns.barplot(x=crimes_per_capita.index,y=crimes_per_capita, color=\"indianred\")"
   ]
  },
  {
   "cell_type": "markdown",
   "metadata": {},
   "source": [
    "## 5. Analyzing types of crime\n",
    "\n",
    "The <span style=\"background-color: #F9EBEA; color:##C0392B\">Class Description</span> column tells us something about the type of crime that was committed. We can use this column to discover which crimes are committed most often.\n",
    "\n",
    "Here are some initial questions to answer:\n",
    "\n",
    "- Which crimes are the most common? Least common?\n",
    "- Can you split the types of crimes manually into \"Violent\" (caused harm to others or involved weapons) and \"Nonviolent\" (mostly property crimes, like theft? What's the most common violent crime? The most common nonviolent?\n",
    "\n",
    "To manually split up violent and nonviolent crimes, just assign each crime to a category. For example, <span style=\"background-color: #F9EBEA; color:##C0392B\">ASSAULT & BATTERY - CITIZEN</span> is violent, and <span style=\"background-color: #F9EBEA; color:##C0392B\">VANDALISM-MOTOR VEHICLE</span> is nonviolent. It may be useful to create a column called <span style=\"background-color: #F9EBEA; color:##C0392B\">Violent</span>, and then use the [pandas.DataFrame.apply](http://pandas.pydata.org/pandas-docs/stable/generated/pandas.DataFrame.apply.html) method to assign **True** or **False** to each row in the column. For example, if **ASSAULT** is in Class Description, it's violent, but if **LARCENY** is in Class Description, it's nonviolent.\n",
    "\n",
    "Make sure to write up the answers to these questions, along with your code, and explain why you reached the conclusions you did."
   ]
  },
  {
   "cell_type": "code",
   "execution_count": 76,
   "metadata": {},
   "outputs": [
    {
     "data": {
      "text/html": [
       "<div>\n",
       "<style>\n",
       "    .dataframe thead tr:only-child th {\n",
       "        text-align: right;\n",
       "    }\n",
       "\n",
       "    .dataframe thead th {\n",
       "        text-align: left;\n",
       "    }\n",
       "\n",
       "    .dataframe tbody tr th {\n",
       "        vertical-align: top;\n",
       "    }\n",
       "</style>\n",
       "<table border=\"1\" class=\"dataframe\">\n",
       "  <thead>\n",
       "    <tr style=\"text-align: right;\">\n",
       "      <th></th>\n",
       "      <th>Count</th>\n",
       "    </tr>\n",
       "    <tr>\n",
       "      <th>Class Description</th>\n",
       "      <th></th>\n",
       "    </tr>\n",
       "  </thead>\n",
       "  <tbody>\n",
       "    <tr>\n",
       "      <th>ABANDONED AUTO</th>\n",
       "      <td>1</td>\n",
       "    </tr>\n",
       "    <tr>\n",
       "      <th>ROB KNIFE/CUT - CONV. STORE</th>\n",
       "      <td>1</td>\n",
       "    </tr>\n",
       "    <tr>\n",
       "      <th>ANIMAL OFFENSE - HOT CAR</th>\n",
       "      <td>1</td>\n",
       "    </tr>\n",
       "    <tr>\n",
       "      <th>PARKING OFFENSES</th>\n",
       "      <td>1</td>\n",
       "    </tr>\n",
       "    <tr>\n",
       "      <th>LARCENY COIN MACH $50-$199</th>\n",
       "      <td>1</td>\n",
       "    </tr>\n",
       "  </tbody>\n",
       "</table>\n",
       "</div>"
      ],
      "text/plain": [
       "                             Count\n",
       "Class Description                 \n",
       "ABANDONED AUTO                   1\n",
       "ROB KNIFE/CUT - CONV. STORE      1\n",
       "ANIMAL OFFENSE - HOT CAR         1\n",
       "PARKING OFFENSES                 1\n",
       "LARCENY COIN MACH $50-$199       1"
      ]
     },
     "execution_count": 76,
     "metadata": {},
     "output_type": "execute_result"
    }
   ],
   "source": [
    "import pandas as pd\n",
    "import numpy as np\n",
    "\n",
    "crimes = pd.read_csv(\"MontgomeryCountyCrime2013.csv\")\n",
    "\n",
    "group_classes = crimes.pivot_table(index='Class Description', values=['Incident ID'], aggfunc='count')\n",
    "group_classes.rename(columns={'Incident ID':'Count'}, inplace=True)\n",
    "group_classes.sort_values(by='Count', ascending=False).head(5) #Five most common\n",
    "group_classes.sort_values(by='Count').head(5) #Five least common (but there are 31 crimes with count = 1)"
   ]
  },
  {
   "cell_type": "code",
   "execution_count": 77,
   "metadata": {},
   "outputs": [
    {
     "data": {
      "text/html": [
       "<div>\n",
       "<style>\n",
       "    .dataframe thead tr:only-child th {\n",
       "        text-align: right;\n",
       "    }\n",
       "\n",
       "    .dataframe thead th {\n",
       "        text-align: left;\n",
       "    }\n",
       "\n",
       "    .dataframe tbody tr th {\n",
       "        vertical-align: top;\n",
       "    }\n",
       "</style>\n",
       "<table border=\"1\" class=\"dataframe\">\n",
       "  <thead>\n",
       "    <tr style=\"text-align: right;\">\n",
       "      <th></th>\n",
       "      <th>Incident ID</th>\n",
       "      <th>CR Number</th>\n",
       "      <th>Dispatch Date / Time</th>\n",
       "      <th>Class</th>\n",
       "      <th>Class Description</th>\n",
       "      <th>Police District Name</th>\n",
       "      <th>Block Address</th>\n",
       "      <th>City</th>\n",
       "      <th>State</th>\n",
       "      <th>Zip Code</th>\n",
       "      <th>...</th>\n",
       "      <th>Beat</th>\n",
       "      <th>PRA</th>\n",
       "      <th>Start Date / Time</th>\n",
       "      <th>End Date / Time</th>\n",
       "      <th>Latitude</th>\n",
       "      <th>Longitude</th>\n",
       "      <th>Police District Number</th>\n",
       "      <th>Location</th>\n",
       "      <th>Address Number</th>\n",
       "      <th>Violent</th>\n",
       "    </tr>\n",
       "  </thead>\n",
       "  <tbody>\n",
       "    <tr>\n",
       "      <th>0</th>\n",
       "      <td>200939101</td>\n",
       "      <td>13047006</td>\n",
       "      <td>10/02/2013 07:52:41 PM</td>\n",
       "      <td>511</td>\n",
       "      <td>BURG FORCE-RES/NIGHT</td>\n",
       "      <td>OTHER</td>\n",
       "      <td>25700  MT RADNOR DR</td>\n",
       "      <td>DAMASCUS</td>\n",
       "      <td>MD</td>\n",
       "      <td>20872.0</td>\n",
       "      <td>...</td>\n",
       "      <td>NaN</td>\n",
       "      <td>NaN</td>\n",
       "      <td>10/02/2013 07:52:00 PM</td>\n",
       "      <td>NaN</td>\n",
       "      <td>NaN</td>\n",
       "      <td>NaN</td>\n",
       "      <td>OTHER</td>\n",
       "      <td>NaN</td>\n",
       "      <td>25700.0</td>\n",
       "      <td>True</td>\n",
       "    </tr>\n",
       "    <tr>\n",
       "      <th>1</th>\n",
       "      <td>200952042</td>\n",
       "      <td>13062965</td>\n",
       "      <td>12/31/2013 09:46:58 PM</td>\n",
       "      <td>1834</td>\n",
       "      <td>CDS-POSS MARIJUANA/HASHISH</td>\n",
       "      <td>GERMANTOWN</td>\n",
       "      <td>GUNNERS BRANCH  RD</td>\n",
       "      <td>GERMANTOWN</td>\n",
       "      <td>MD</td>\n",
       "      <td>20874.0</td>\n",
       "      <td>...</td>\n",
       "      <td>5M1</td>\n",
       "      <td>470.0</td>\n",
       "      <td>12/31/2013 09:46:00 PM</td>\n",
       "      <td>NaN</td>\n",
       "      <td>NaN</td>\n",
       "      <td>NaN</td>\n",
       "      <td>5D</td>\n",
       "      <td>NaN</td>\n",
       "      <td>NaN</td>\n",
       "      <td>False</td>\n",
       "    </tr>\n",
       "    <tr>\n",
       "      <th>2</th>\n",
       "      <td>200926636</td>\n",
       "      <td>13031483</td>\n",
       "      <td>07/06/2013 09:06:24 AM</td>\n",
       "      <td>1412</td>\n",
       "      <td>VANDALISM-MOTOR VEHICLE</td>\n",
       "      <td>MONTGOMERY VILLAGE</td>\n",
       "      <td>OLDE TOWNE  AVE</td>\n",
       "      <td>GAITHERSBURG</td>\n",
       "      <td>MD</td>\n",
       "      <td>20877.0</td>\n",
       "      <td>...</td>\n",
       "      <td>6P3</td>\n",
       "      <td>431.0</td>\n",
       "      <td>07/06/2013 09:06:00 AM</td>\n",
       "      <td>NaN</td>\n",
       "      <td>NaN</td>\n",
       "      <td>NaN</td>\n",
       "      <td>6D</td>\n",
       "      <td>NaN</td>\n",
       "      <td>NaN</td>\n",
       "      <td>False</td>\n",
       "    </tr>\n",
       "    <tr>\n",
       "      <th>3</th>\n",
       "      <td>200929538</td>\n",
       "      <td>13035288</td>\n",
       "      <td>07/28/2013 09:13:15 PM</td>\n",
       "      <td>2752</td>\n",
       "      <td>FUGITIVE FROM JUSTICE(OUT OF STATE)</td>\n",
       "      <td>BETHESDA</td>\n",
       "      <td>BEACH  DR</td>\n",
       "      <td>CHEVY CHASE</td>\n",
       "      <td>MD</td>\n",
       "      <td>20815.0</td>\n",
       "      <td>...</td>\n",
       "      <td>2D1</td>\n",
       "      <td>11.0</td>\n",
       "      <td>07/28/2013 09:13:00 PM</td>\n",
       "      <td>NaN</td>\n",
       "      <td>NaN</td>\n",
       "      <td>NaN</td>\n",
       "      <td>2D</td>\n",
       "      <td>NaN</td>\n",
       "      <td>NaN</td>\n",
       "      <td>False</td>\n",
       "    </tr>\n",
       "    <tr>\n",
       "      <th>4</th>\n",
       "      <td>200930689</td>\n",
       "      <td>13036876</td>\n",
       "      <td>08/06/2013 05:16:17 PM</td>\n",
       "      <td>2812</td>\n",
       "      <td>DRIVING UNDER THE INFLUENCE</td>\n",
       "      <td>BETHESDA</td>\n",
       "      <td>BEACH  DR</td>\n",
       "      <td>SILVER SPRING</td>\n",
       "      <td>MD</td>\n",
       "      <td>20815.0</td>\n",
       "      <td>...</td>\n",
       "      <td>2D3</td>\n",
       "      <td>178.0</td>\n",
       "      <td>08/06/2013 05:16:00 PM</td>\n",
       "      <td>NaN</td>\n",
       "      <td>NaN</td>\n",
       "      <td>NaN</td>\n",
       "      <td>2D</td>\n",
       "      <td>NaN</td>\n",
       "      <td>NaN</td>\n",
       "      <td>True</td>\n",
       "    </tr>\n",
       "  </tbody>\n",
       "</table>\n",
       "<p>5 rows × 23 columns</p>\n",
       "</div>"
      ],
      "text/plain": [
       "   Incident ID  CR Number    Dispatch Date / Time  Class  \\\n",
       "0    200939101   13047006  10/02/2013 07:52:41 PM    511   \n",
       "1    200952042   13062965  12/31/2013 09:46:58 PM   1834   \n",
       "2    200926636   13031483  07/06/2013 09:06:24 AM   1412   \n",
       "3    200929538   13035288  07/28/2013 09:13:15 PM   2752   \n",
       "4    200930689   13036876  08/06/2013 05:16:17 PM   2812   \n",
       "\n",
       "                     Class Description Police District Name  \\\n",
       "0                 BURG FORCE-RES/NIGHT                OTHER   \n",
       "1           CDS-POSS MARIJUANA/HASHISH           GERMANTOWN   \n",
       "2              VANDALISM-MOTOR VEHICLE   MONTGOMERY VILLAGE   \n",
       "3  FUGITIVE FROM JUSTICE(OUT OF STATE)             BETHESDA   \n",
       "4          DRIVING UNDER THE INFLUENCE             BETHESDA   \n",
       "\n",
       "         Block Address           City State  Zip Code   ...   Beat    PRA  \\\n",
       "0  25700  MT RADNOR DR       DAMASCUS    MD   20872.0   ...    NaN    NaN   \n",
       "1   GUNNERS BRANCH  RD     GERMANTOWN    MD   20874.0   ...    5M1  470.0   \n",
       "2      OLDE TOWNE  AVE   GAITHERSBURG    MD   20877.0   ...    6P3  431.0   \n",
       "3            BEACH  DR    CHEVY CHASE    MD   20815.0   ...    2D1   11.0   \n",
       "4            BEACH  DR  SILVER SPRING    MD   20815.0   ...    2D3  178.0   \n",
       "\n",
       "        Start Date / Time End Date / Time  Latitude Longitude  \\\n",
       "0  10/02/2013 07:52:00 PM             NaN       NaN       NaN   \n",
       "1  12/31/2013 09:46:00 PM             NaN       NaN       NaN   \n",
       "2  07/06/2013 09:06:00 AM             NaN       NaN       NaN   \n",
       "3  07/28/2013 09:13:00 PM             NaN       NaN       NaN   \n",
       "4  08/06/2013 05:16:00 PM             NaN       NaN       NaN   \n",
       "\n",
       "  Police District Number  Location  Address Number Violent  \n",
       "0                  OTHER       NaN         25700.0    True  \n",
       "1                     5D       NaN             NaN   False  \n",
       "2                     6D       NaN             NaN   False  \n",
       "3                     2D       NaN             NaN   False  \n",
       "4                     2D       NaN             NaN    True  \n",
       "\n",
       "[5 rows x 23 columns]"
      ]
     },
     "execution_count": 77,
     "metadata": {},
     "output_type": "execute_result"
    }
   ],
   "source": [
    "keywords = ['ASSAULT','RAPE','HOMICIDE','ARSON','ABUSE','KIDNAPPING','AGG ASSLT','DRIVING UNDER',\n",
    "            'BURG FORCE','BOMB','FIRE OTHER','ROB ','SEX OFFENDER']\n",
    "\n",
    "def is_violent(row):\n",
    "    class_description = row[\"Class Description\"]\n",
    "    if any(word in class_description for word in keywords):\n",
    "        return True\n",
    "    else:\n",
    "        return False\n",
    "\n",
    "violent = crimes.apply(is_violent, axis=1)\n",
    "crimes['Violent'] = violent\n",
    "\n",
    "crimes.head(5)"
   ]
  },
  {
   "cell_type": "code",
   "execution_count": 133,
   "metadata": {},
   "outputs": [
    {
     "data": {
      "text/html": [
       "<div>\n",
       "<style>\n",
       "    .dataframe thead tr:only-child th {\n",
       "        text-align: right;\n",
       "    }\n",
       "\n",
       "    .dataframe thead th {\n",
       "        text-align: left;\n",
       "    }\n",
       "\n",
       "    .dataframe tbody tr th {\n",
       "        vertical-align: top;\n",
       "    }\n",
       "</style>\n",
       "<table border=\"1\" class=\"dataframe\">\n",
       "  <thead>\n",
       "    <tr style=\"text-align: right;\">\n",
       "      <th></th>\n",
       "      <th>Violent</th>\n",
       "      <th>Class Description</th>\n",
       "      <th>Count</th>\n",
       "    </tr>\n",
       "  </thead>\n",
       "  <tbody>\n",
       "    <tr>\n",
       "      <th>242</th>\n",
       "      <td>True</td>\n",
       "      <td>DRIVING UNDER THE INFLUENCE</td>\n",
       "      <td>1710</td>\n",
       "    </tr>\n",
       "    <tr>\n",
       "      <th>220</th>\n",
       "      <td>True</td>\n",
       "      <td>ASSAULT &amp; BATTERY - CITIZEN</td>\n",
       "      <td>382</td>\n",
       "    </tr>\n",
       "    <tr>\n",
       "      <th>280</th>\n",
       "      <td>True</td>\n",
       "      <td>SIMPLE ASSAULT - CITIZEN</td>\n",
       "      <td>311</td>\n",
       "    </tr>\n",
       "    <tr>\n",
       "      <th>224</th>\n",
       "      <td>True</td>\n",
       "      <td>ASSAULT &amp; BATTERY SPOUSE/PARTNER</td>\n",
       "      <td>290</td>\n",
       "    </tr>\n",
       "    <tr>\n",
       "      <th>236</th>\n",
       "      <td>True</td>\n",
       "      <td>BURG FORCE-RES/DAY</td>\n",
       "      <td>240</td>\n",
       "    </tr>\n",
       "  </tbody>\n",
       "</table>\n",
       "</div>"
      ],
      "text/plain": [
       "     Violent                 Class Description  Count\n",
       "242     True       DRIVING UNDER THE INFLUENCE   1710\n",
       "220     True       ASSAULT & BATTERY - CITIZEN    382\n",
       "280     True          SIMPLE ASSAULT - CITIZEN    311\n",
       "224     True  ASSAULT & BATTERY SPOUSE/PARTNER    290\n",
       "236     True                BURG FORCE-RES/DAY    240"
      ]
     },
     "execution_count": 133,
     "metadata": {},
     "output_type": "execute_result"
    }
   ],
   "source": [
    "violent_classes = crimes.pivot_table(index=['Violent', 'Class Description'], values=['Incident ID'], aggfunc='count')\n",
    "violent_classes.rename(columns={'Incident ID':'Count'}, inplace=True)\n",
    "violent_classes.reset_index(inplace=True) #removing indexes\n",
    "\n",
    "most_violent = violent_classes.sort_values(by=['Violent','Count'], ascending=[False, False]).head(5) #most common violent crime\n",
    "most_nonviolent = violent_classes.sort_values(by=['Violent','Count'], ascending=[True, False]).head(5) #most common nonviolent crime\n",
    "\n",
    "most_violent"
   ]
  },
  {
   "cell_type": "markdown",
   "metadata": {},
   "source": [
    "## 6. Combine Analysis\n",
    "\n",
    "After doing some analysis on types of crimes, you can combine our analysis with location and time data to answer more complex questions, like:\n",
    "\n",
    "- Where are the most violent crimes committed? How about nonviolent?\n",
    "- When are the most violent crimes committed? How about nonviolent?\n",
    "\n",
    "Make sure to write up the answers to these questions, along with your code, and explain why you reached the conclusions you did."
   ]
  },
  {
   "cell_type": "code",
   "execution_count": 135,
   "metadata": {
    "scrolled": false
   },
   "outputs": [
    {
     "data": {
      "text/plain": [
       "<matplotlib.axes._subplots.AxesSubplot at 0x17355f1bfd0>"
      ]
     },
     "execution_count": 135,
     "metadata": {},
     "output_type": "execute_result"
    },
    {
     "data": {
      "image/png": "[encoded data removed]",
      "text/plain": [
       "<matplotlib.figure.Figure at 0x17355127588>"
      ]
     },
     "metadata": {},
     "output_type": "display_data"
    }
   ],
   "source": [
    "# 1) Where are the most violent crimes committed?\n",
    "most_violent_count_by_area = crimes[crimes[\"Class Description\"].isin(most_violent[\"Class Description\"])].pivot_table(index=['Police District Number'], values=['Incident ID'], aggfunc='count')\n",
    "most_violent_count_by_area.rename(columns={'Incident ID':'Count'}, inplace=True)\n",
    "most_violent_count_by_area.reset_index(inplace=True) #removing indexes\n",
    "\n",
    "sns.barplot(x=most_violent_count_by_area['Police District Number'], y=most_violent_count_by_area['Count'], color=\"indianred\")"
   ]
  },
  {
   "cell_type": "code",
   "execution_count": 137,
   "metadata": {
    "scrolled": true
   },
   "outputs": [
    {
     "data": {
      "text/plain": [
       "<matplotlib.axes._subplots.AxesSubplot at 0x17356214b00>"
      ]
     },
     "execution_count": 137,
     "metadata": {},
     "output_type": "execute_result"
    },
    {
     "data": {
      "image/png": "[encoded data removed]",
      "text/plain": [
       "<matplotlib.figure.Figure at 0x1735620c1d0>"
      ]
     },
     "metadata": {},
     "output_type": "display_data"
    }
   ],
   "source": [
    "# 1) How about nonviolent?\n",
    "most_nonviolent_count_by_area = crimes[crimes[\"Class Description\"].isin(most_nonviolent[\"Class Description\"])].pivot_table(index=['Police District Number'], values=['Incident ID'], aggfunc='count')\n",
    "most_nonviolent_count_by_area.rename(columns={'Incident ID':'Count'}, inplace=True)\n",
    "most_nonviolent_count_by_area.reset_index(inplace=True) #removing indexes\n",
    "\n",
    "sns.barplot(x=most_nonviolent_count_by_area['Police District Number'], y=most_nonviolent_count_by_area['Count'], color=\"blue\")"
   ]
  },
  {
   "cell_type": "markdown",
   "metadata": {},
   "source": [
    "## 7. Posing and answering your own questions\n",
    "\n",
    "After you've finished exploring the data and answering some directed questions, you should be able to start coming up with some of your own.\n",
    "\n",
    "You can think of questions based on a few strategies:\n",
    "\n",
    "- Expanding or tweaking the directed questions from earlier.\n",
    "- Exploring patterns you found while exploring the data.\n",
    "- Questions based on research you've done about the previous lessons\n",
    "\n",
    "Try to think of at least three questions, then answer them the same way you did in previous screens."
   ]
  }
 ],
 "metadata": {
  "kernelspec": {
   "display_name": "Python 3",
   "language": "python",
   "name": "python3"
  },
  "language_info": {
   "codemirror_mode": {
    "name": "ipython",
    "version": 3
   },
   "file_extension": ".py",
   "mimetype": "text/x-python",
   "name": "python",
   "nbconvert_exporter": "python",
   "pygments_lexer": "ipython3",
   "version": "3.6.1"
  }
 },
 "nbformat": 4,
 "nbformat_minor": 2
}
