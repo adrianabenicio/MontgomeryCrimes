{
 "cells": [
  {
   "cell_type": "markdown",
   "metadata": {
    "collapsed": true
   },
   "source": [
    "# 1. Introduction\n",
    "\n",
    "In the past few missions, you've learned how to use Pandas to analyze data quickly and efficiently. You applied this knowledge by creating guided projects to solidify your knowledge. You'll go further in this project, and you'll build an end-to-end data analysis project on your own, using Pandas and Python.\n",
    "\n"
   ]
  },
  {
   "cell_type": "markdown",
   "metadata": {},
   "source": [
    "## 2. The data\n",
    "\n",
    "In this project, you'll be working with crime data from [Montgomery County, MD](https://en.wikipedia.org/wiki/Montgomery_County,_Maryland). Each row in the data is a crime reported by a law enforcement officer in <span style=\"background-color: #F9EBEA; color:##C0392B\">2013</span> and entered into a database.\n",
    "\n",
    "You'll want to download the data from the repository. After downloading the data, you'll want to create a new Jupyter notebook in the same folder, and ensure that any code or analysis you do on the data occurs in that notebook.\n",
    "\n",
    "You can load the data in and display the first <span style=\"background-color: #F9EBEA; color:##C0392B\">5</span> rows to get a better idea of the structure:\n",
    "\n",
    ">```python\n",
    "import pandas as pd\n",
    "crimes = pd.read_csv(\"MontgomeryCountyCrime2013.csv\")\n",
    "crimes.head()\n",
    "```"
   ]
  },
  {
   "cell_type": "markdown",
   "metadata": {},
   "source": [
    "You'll also want to display all of the column names with:\n",
    "\n",
    ">```python\n",
    "crimes.columns\n",
    "```\n",
    ">```python\n",
    "Index(['Incident ID', 'CR Number', 'Dispatch Date / Time', 'Class',\n",
    "       'Class Description', 'Police District Name', 'Block Address', 'City',\n",
    "       'State', 'Zip Code', 'Agency', 'Place', 'Sector', 'Beat', 'PRA',\n",
    "       'Start Date / Time', 'End Date / Time', 'Latitude', 'Longitude',\n",
    "       'Police District Number', 'Location', 'Address Number'],\n",
    "      dtype='object')\n",
    "```\n",
    "\n",
    "After displaying some of the data, make sure you look through and understand each column. It can be helpful to display the first few values in each column in order to understand it better. It can also be useful to perform a Google search to help give you context for columns. For example, looking up <span style=\"background-color: #F9EBEA; color:##C0392B\">Police District Number Montgomery County</span> bring you to this [page](https://www.montgomerycountymd.gov/pol/districts/map.html), which helps you understand them. Make sure to write up a Markdown cell explaining anything relevant that you learned.\n",
    "\n",
    "You'll also want to explore missing values in each column. Why do you think certain columns have missing values? Make sure to write up your thoughts on missing values, and how they'll impact your analysis.\n",
    "\n",
    "Also make sure to look at the format of each column. For example, <span style=\"background-color: #F9EBEA; color:##C0392B\">Zip Code</span> is a float column, but if you know about Zip codes in the US, you know that they're always integers. Keeping that this column is of the \"wrong\" type in mind will help you as you analyze the data."
   ]
  },
  {
   "cell_type": "markdown",
   "metadata": {},
   "source": [
    "## 3. Analyzing the times of crimes\n",
    "\n",
    "The  <span style=\"background-color: #F9EBEA; color:##C0392B\">Dispatch Date / Time</span> column looks very interesting, because it allows us to figure out when crimes are most likely to occur. You can use this column to answer questions like:\n",
    "\n",
    "- What day of the week are the most crimes committed on? (ie Monday, Tuesday, etc)\n",
    "- During what time of day are the most crimes committed?\n",
    "- During what month are the most crimes committed?\n",
    "\n",
    "You can answer these questions by first parsing the <span style=\"background-color: #F9EBEA; color:##C0392B\">Dispatch Date / Time</span> column using the [pandas.to_datetime](http://pandas.pydata.org/pandas-docs/stable/generated/pandas.to_datetime.html) function, like this:\n",
    "\n",
    ">```python\n",
    "d_time = pandas.to_datetime(crimes[\"Dispatch Date / Time\"])\n",
    "```\n",
    "\n",
    "After doing the type conversion, you'll need to extract the components of the datetime you're interested in. You can see documentation for this [here](http://pandas.pydata.org/pandas-docs/stable/api.html#datetimelike-properties). After the extraction, you can use the <span style=\"background-color: #F9EBEA; color:##C0392B\">pandas.Series.value_counts</span> method to count up the items you want.\n",
    "\n",
    "There is some nuance around counting up the time of day when crimes are committed. You'll have to decide how you want to define \"time of day\". This can be as simple as using the hour, or as complex as assigning categories to certain times, like \"morning\", \"afternoon\", \"evening\", and \"night\".\n",
    "\n",
    "As you answer these questions, make sure to document your code, and add in explanations after each cell. Your explanations should discuss the answer, along with anything interesting your discovered.\n",
    "\n",
    "Were you surprised by your findings? Why do you think that crimes follow the patterns that they do? It may be useful to do some research here to see if you can find support for your theories.\n",
    "\n",
    "After you're done, take a look at the <span style=\"background-color: #F9EBEA; color:##C0392B\">End Date / Time</span> and <span style=\"background-color: #F9EBEA; color:##C0392B\">Start Date / Time</span> columns. Are these different from the <span style=\"background-color: #F9EBEA; color:##C0392B\">Dispatch Date / Time</span> column? Would it be useful to use one or both of those columns to do this analysis instead?\n"
   ]
  },
  {
   "cell_type": "code",
   "execution_count": 1,
   "metadata": {},
   "outputs": [
    {
     "name": "stdout",
     "output_type": "stream",
     "text": [
      "Tuesday      3836\n",
      "Monday       3734\n",
      "Wednesday    3611\n",
      "Friday       3594\n",
      "Thursday     3404\n",
      "Saturday     2807\n",
      "Sunday       2383\n",
      "Name: Dispatch Date / Time, dtype: int64\n"
     ]
    },
    {
     "data": {
      "text/plain": [
       "[<matplotlib.text.Text at 0x15dfc608208>]"
      ]
     },
     "execution_count": 1,
     "metadata": {},
     "output_type": "execute_result"
    },
    {
     "data": {
      "image/png": "[encoded data removed]",
      "text/plain": [
       "<matplotlib.figure.Figure at 0x15dfb0507b8>"
      ]
     },
     "metadata": {},
     "output_type": "display_data"
    }
   ],
   "source": [
    "import pandas as pd\n",
    "%matplotlib inline\n",
    "import matplotlib.pyplot as plt\n",
    "import seaborn as sns\n",
    "\n",
    "crimes = pd.read_csv(\"MontgomeryCountyCrime2013.csv\")\n",
    "\n",
    "d_time = pd.to_datetime(crimes[\"Dispatch Date / Time\"])\n",
    "##What day of the week are the most crimes committed on?\n",
    "d_week = d_time.dt.weekday_name\n",
    "print(d_week.value_counts())\n",
    "ax = sns.barplot(x=d_week.value_counts().index,y=d_week.value_counts(), color=\"indianred\")\n",
    "ax.set(ylim=(0, 4000))\n",
    "ax.set(ylabel='Frequency')\n",
    "ax.set(xlabel='Day of the week')"
   ]
  },
  {
   "cell_type": "code",
   "execution_count": 2,
   "metadata": {},
   "outputs": [
    {
     "name": "stdout",
     "output_type": "stream",
     "text": [
      "7     1278\n",
      "9     1222\n",
      "16    1211\n",
      "15    1179\n",
      "8     1174\n",
      "14    1142\n",
      "13    1132\n",
      "18    1119\n",
      "10    1116\n",
      "17    1115\n",
      "11    1105\n",
      "6     1076\n",
      "20    1065\n",
      "12    1063\n",
      "23    1039\n",
      "19    1030\n",
      "22    1022\n",
      "21    1012\n",
      "0      904\n",
      "1      855\n",
      "2      684\n",
      "3      376\n",
      "4      228\n",
      "5      222\n",
      "Name: Dispatch Date / Time, dtype: int64\n"
     ]
    },
    {
     "data": {
      "text/plain": [
       "[<matplotlib.text.Text at 0x15dfc672a90>]"
      ]
     },
     "execution_count": 2,
     "metadata": {},
     "output_type": "execute_result"
    },
    {
     "data": {
      "image/png": "[encoded data removed]",
      "text/plain": [
       "<matplotlib.figure.Figure at 0x15dfc6d6a20>"
      ]
     },
     "metadata": {},
     "output_type": "display_data"
    }
   ],
   "source": [
    "##During what time of day are the most crimes committed?\n",
    "hour = d_time.dt.hour\n",
    "print(hour.value_counts())\n",
    "ax = sns.barplot(x=hour.value_counts().index,y=hour.value_counts(), color=\"indianred\")\n",
    "ax.set(ylim=(0, 1300))\n",
    "ax.set(xlim=(-1, 24))\n",
    "ax.set(ylabel='Frequency')\n",
    "ax.set(xlabel='Hours')"
   ]
  },
  {
   "cell_type": "code",
   "execution_count": 3,
   "metadata": {},
   "outputs": [
    {
     "data": {
      "text/plain": [
       "[<matplotlib.text.Text at 0x15dfcf0d668>]"
      ]
     },
     "execution_count": 3,
     "metadata": {},
     "output_type": "execute_result"
    },
    {
     "data": {
      "image/png": "[encoded data removed]",
      "text/plain": [
       "<matplotlib.figure.Figure at 0x15dfc69cb00>"
      ]
     },
     "metadata": {},
     "output_type": "display_data"
    }
   ],
   "source": [
    "##During what month are the most crimes committed?\n",
    "month = d_time.dt.month\n",
    "#print(month.value_counts())\n",
    "ax = sns.barplot(x=month.value_counts().index,y=month.value_counts(), color=\"indianred\")\n",
    "ax.set(ylim=(0, 4100))\n",
    "ax.set(xlim=(-7, 12))\n",
    "ax.set(ylabel='Frequency')\n",
    "ax.set(xlabel='Months')"
   ]
  },
  {
   "cell_type": "code",
   "execution_count": 5,
   "metadata": {},
   "outputs": [
    {
     "name": "stdout",
     "output_type": "stream",
     "text": [
      "Morning\n",
      "10223\n",
      "Afternoon\n",
      "6824\n",
      "Evening\n",
      "3192\n",
      "Night\n",
      "3063\n"
     ]
    }
   ],
   "source": [
    "#Morning (0:01-12)\n",
    "#Afternoon (12:01-18)\n",
    "#Evening (18:01-21)\n",
    "#Night (21:01-0)\n",
    "\n",
    "import datetime\n",
    "crimes_period = pd.read_csv(\"MontgomeryCountyCrime2013.csv\")\n",
    "time = crimes_period[['Dispatch Date / Time']]\n",
    "time.index = pd.to_datetime(crimes_period[\"Dispatch Date / Time\"])\n",
    "morning = time.between_time(start_time=\"00:01\", end_time=\"12:00\")\n",
    "afternoon = time.between_time(start_time=\"12:01\", end_time=\"18:00\")\n",
    "evening = time.between_time(start_time=\"18:01\", end_time=\"21:00\")\n",
    "night = time.between_time(start_time=\"21:01\", end_time=\"00:00\")\n",
    "print('Morning')\n",
    "print(len(morning))\n",
    "print('Afternoon')\n",
    "print(len(afternoon))\n",
    "print('Evening')\n",
    "print(len(evening))\n",
    "print('Night')\n",
    "print(len(night))"
   ]
  },
  {
   "cell_type": "markdown",
   "metadata": {},
   "source": [
    "#### Analysis using  End Date / Time "
   ]
  },
  {
   "cell_type": "code",
   "execution_count": 6,
   "metadata": {},
   "outputs": [
    {
     "data": {
      "text/plain": [
       "[<matplotlib.text.Text at 0x15dfe36b550>]"
      ]
     },
     "execution_count": 6,
     "metadata": {},
     "output_type": "execute_result"
    },
    {
     "data": {
      "image/png": "[encoded data removed]",
      "text/plain": [
       "<matplotlib.figure.Figure at 0x15dfcb1b5c0>"
      ]
     },
     "metadata": {},
     "output_type": "display_data"
    }
   ],
   "source": [
    "##End Date / Time \n",
    "d_time2 = pd.to_datetime(crimes[\"End Date / Time\"])\n",
    "##What day of the week are the most crimes committed on?\n",
    "d_week2 = d_time2.dt.weekday_name\n",
    "#print(d_week2.value_counts())\n",
    "ax = sns.barplot(x=d_week2.value_counts().index,y=d_week2.value_counts(), color=\"indianred\")\n",
    "ax.set(ylim=(0, 4000))\n",
    "ax.set(ylabel='Frequency')\n",
    "ax.set(xlabel='Day of the week')"
   ]
  },
  {
   "cell_type": "code",
   "execution_count": 7,
   "metadata": {},
   "outputs": [
    {
     "data": {
      "text/plain": [
       "[<matplotlib.text.Text at 0x15dfcf2d630>]"
      ]
     },
     "execution_count": 7,
     "metadata": {},
     "output_type": "execute_result"
    },
    {
     "data": {
      "image/png": "[encoded data removed]",
      "text/plain": [
       "<matplotlib.figure.Figure at 0x15dfc608f28>"
      ]
     },
     "metadata": {},
     "output_type": "display_data"
    }
   ],
   "source": [
    "##During what time of day are the most crimes committed?\n",
    "hour2 = d_time2.dt.hour\n",
    "#print(hour2.value_counts())\n",
    "ax = sns.barplot(x=hour2.value_counts().index,y=hour2.value_counts(), color=\"indianred\")\n",
    "ax.set(ylim=(0, 1300))\n",
    "ax.set(xlim=(-1, 24))\n",
    "ax.set(ylabel='Frequency')\n",
    "ax.set(xlabel='Hours')"
   ]
  },
  {
   "cell_type": "code",
   "execution_count": 8,
   "metadata": {},
   "outputs": [
    {
     "data": {
      "text/plain": [
       "[<matplotlib.text.Text at 0x15dfd15d9b0>]"
      ]
     },
     "execution_count": 8,
     "metadata": {},
     "output_type": "execute_result"
    },
    {
     "data": {
      "image/png": "[encoded data removed]",
      "text/plain": [
       "<matplotlib.figure.Figure at 0x15dfcfdcc18>"
      ]
     },
     "metadata": {},
     "output_type": "display_data"
    }
   ],
   "source": [
    "##During what month are the most crimes committed?\n",
    "month2 = d_time2.dt.month\n",
    "#print(month2.value_counts())\n",
    "ax = sns.barplot(x=month2.value_counts().index,y=month2.value_counts(), color=\"indianred\")\n",
    "ax.set(ylim=(0, 4100))\n",
    "ax.set(xlim=(-7, 12))\n",
    "ax.set(ylabel='Frequency')\n",
    "ax.set(xlabel='Months')"
   ]
  },
  {
   "cell_type": "markdown",
   "metadata": {},
   "source": [
    "#### Analysis using  Start Date / Time "
   ]
  },
  {
   "cell_type": "code",
   "execution_count": 9,
   "metadata": {},
   "outputs": [
    {
     "data": {
      "text/plain": [
       "[<matplotlib.text.Text at 0x15dfda5a898>]"
      ]
     },
     "execution_count": 9,
     "metadata": {},
     "output_type": "execute_result"
    },
    {
     "data": {
      "image/png": "[encoded data removed]",
      "text/plain": [
       "<matplotlib.figure.Figure at 0x15dfc67fbe0>"
      ]
     },
     "metadata": {},
     "output_type": "display_data"
    }
   ],
   "source": [
    "##Start Date / Time \n",
    "d_time3 = pd.to_datetime(crimes[\"Start Date / Time\"])\n",
    "##What day of the week are the most crimes committed on?\n",
    "d_week3 = d_time3.dt.weekday_name\n",
    "#print(d_week3.value_counts())\n",
    "ax = sns.barplot(x=d_week3.value_counts().index,y=d_week3.value_counts(), color=\"indianred\")\n",
    "ax.set(ylim=(0, 4000))\n",
    "ax.set(ylabel='Frequency')\n",
    "ax.set(xlabel='Day of the week')"
   ]
  },
  {
   "cell_type": "code",
   "execution_count": 10,
   "metadata": {},
   "outputs": [
    {
     "data": {
      "text/plain": [
       "[<matplotlib.text.Text at 0x15dfd597a20>]"
      ]
     },
     "execution_count": 10,
     "metadata": {},
     "output_type": "execute_result"
    },
    {
     "data": {
      "image/png": "[encoded data removed]",
      "text/plain": [
       "<matplotlib.figure.Figure at 0x15dfd46a2e8>"
      ]
     },
     "metadata": {},
     "output_type": "display_data"
    }
   ],
   "source": [
    "##During what time of day are the most crimes committed?\n",
    "hour3 = d_time3.dt.hour\n",
    "#print(hour3.value_counts())\n",
    "ax = sns.barplot(x=hour3.value_counts().index,y=hour3.value_counts(), color=\"indianred\")\n",
    "ax.set(ylim=(0, 1900))\n",
    "ax.set(xlim=(-1, 24))\n",
    "ax.set(ylabel='Frequency')\n",
    "ax.set(xlabel='Hours')"
   ]
  },
  {
   "cell_type": "code",
   "execution_count": 11,
   "metadata": {},
   "outputs": [
    {
     "data": {
      "text/plain": [
       "[<matplotlib.text.Text at 0x15dfd5a9438>]"
      ]
     },
     "execution_count": 11,
     "metadata": {},
     "output_type": "execute_result"
    },
    {
     "data": {
      "image/png": "[encoded data removed]",
      "text/plain": [
       "<matplotlib.figure.Figure at 0x15dfd81add8>"
      ]
     },
     "metadata": {},
     "output_type": "display_data"
    }
   ],
   "source": [
    "##During what month are the most crimes committed?\n",
    "month3 = d_time3.dt.month\n",
    "#print(month3.value_counts())\n",
    "ax = sns.barplot(x=month3.value_counts().index,y=month3.value_counts(), color=\"indianred\")\n",
    "ax.set(ylim=(0, 4100))\n",
    "ax.set(xlim=(-7, 12))\n",
    "ax.set(ylabel='Frequency')\n",
    "ax.set(xlabel='Months')"
   ]
  },
  {
   "cell_type": "markdown",
   "metadata": {},
   "source": [
    "#### Comparing Dispatcher, End and Start Times"
   ]
  },
  {
   "cell_type": "code",
   "execution_count": 12,
   "metadata": {},
   "outputs": [
    {
     "name": "stdout",
     "output_type": "stream",
     "text": [
      "0\n",
      "10178\n",
      "0\n"
     ]
    }
   ],
   "source": [
    "#dispatcher\n",
    "d_time_null = pd.isnull(d_time)\n",
    "print(len(d_time_null[d_time_null == True]))\n",
    "#End\n",
    "d_time_null2 = pd.isnull(d_time2)\n",
    "print(len(d_time_null2[d_time_null2 == True]))\n",
    "#Start\n",
    "d_time_null3 = pd.isnull(d_time3)\n",
    "print(len(d_time_null3[d_time_null3 == True]))"
   ]
  },
  {
   "cell_type": "markdown",
   "metadata": {},
   "source": [
    "## 4. Analyzing locations of crimes\n",
    "\n",
    "There are a few columns that encode information about the location of crimes:\n",
    "\n",
    "- <span style=\"background-color: #F9EBEA; color:##C0392B\">Police District Name</span>\n",
    "- <span style=\"background-color: #F9EBEA; color:##C0392B\">Block Address</span>\n",
    "- <span style=\"background-color: #F9EBEA; color:##C0392B\">Zip Code</span>\n",
    "- <span style=\"background-color: #F9EBEA; color:##C0392B\">Sector</span>\n",
    "- <span style=\"background-color: #F9EBEA; color:##C0392B\">Beat</span>\n",
    "- <span style=\"background-color: #F9EBEA; color:##C0392B\">Latitude</span>\n",
    "- <span style=\"background-color: #F9EBEA; color:##C0392B\">Longitude</span>\n",
    "- <span style=\"background-color: #F9EBEA; color:##C0392B\">Police District Number</span>\n",
    "- <span style=\"background-color: #F9EBEA; color:##C0392B\">Location</span>\n",
    "- <span style=\"background-color: #F9EBEA; color:##C0392B\">Address Number</span>\n",
    "\n",
    "These columns have varying numbers of missing values, and varying granularity. Some of the columns represent areas with large granularity (like police districts), whereas some represent areas with small granularity, like <span style=\"background-color: #F9EBEA; color:##C0392B\">Latitude</span>, and <span style=\"background-color: #F9EBEA; color:##C0392B\">Longitude</span>.\n",
    "\n",
    "\n",
    "In order to decide which column to use to analyze the locations of crimes, you need to utilize the following criteria:\n",
    "\n",
    "- **Granularity**. Areas that are too small aren't great, because only a few crimes were committed inside them, which makes it hard to analyze and compare. For example, if I tell you that Silver Spring (a city in Montgomery County) is the place with the most crimes, you'll know to avoid that area. However, if I tell you that a 100 foot section of Silver Spring has the most crimes, it won't be as helpful (it's unlikely that you'll ever be in that 100 foot section).\n",
    "- **Comprehensibility**. You looked up the Police District map of Montgomery County before, so it's simple to tell what area corresponds to district <span style=\"background-color: #F9EBEA; color:##C0392B\">6</span>. However, what area does Beat <span style=\"background-color: #F9EBEA; color:##C0392B\">5M1</span> correspond to? You may be able to look this up, but it's harder to comprehend.\n",
    "- **Missing values**. If a column has a lot of missing values, that means that the conclusions you draw are less valid, because you don't know if the missing data is systematic (ie all data for a given district is missing) or random (equal amounts of data are missing from each district). You should try to select a column that has minimal missing values.\n",
    "\n",
    "Based on the above criteria, pick a column that you want to use to analyze location. After picking a column, see if you can answer these questions:\n",
    "\n",
    "- In what area did the most crimes occur? What physical locations (like cities) does this area correspond to?\n",
    "- Which area has the highest number of crimes per capita? You may be able to find population data per area online. For example, [this](https://www.montgomerycountymd.gov/POL/Resources/Files/crime/MCP2015AnnualCrimeReportFINAL.pdf) annual report has per-district populations towards the bottom.\n",
    "\n",
    "Make sure to write up the answers to these questions, along with your code, and explain why you reached the conclusions you did.\n"
   ]
  },
  {
   "cell_type": "code",
   "execution_count": 13,
   "metadata": {
    "collapsed": true,
    "scrolled": true
   },
   "outputs": [],
   "source": [
    "import pandas as pd\n",
    "import numpy as np\n",
    "import matplotlib.pyplot as plt\n",
    "import seaborn as sns\n",
    "%matplotlib inline\n",
    "\n",
    "crimes = pd.read_csv(\"MontgomeryCountyCrime2013.csv\")\n",
    "area_dsc = \"Police District Number\" # Área escolhida\n",
    "\n",
    "area = crimes[area_dsc]\n",
    "area_is_null = pd.isnull(area)\n",
    "area_not_null = area[~area_is_null]\n",
    "area_null = area[area_is_null]\n",
    "\n",
    "# 1) Percentual de valores nulos na coluna escolhida.\n",
    "percentage_null = len(area_null)*100/len(area_not_null)\n",
    "\n",
    "# 2) Remove as linhas em que a coluna escolhida está preenchida com nulo.\n",
    "crimes_area_not_null = crimes.dropna(axis=0, subset=[area_dsc])\n",
    "\n",
    "# 3) Quantidade de linhas agrupado por área.\n",
    "crimes_by_area = crimes_area_not_null.groupby(area_dsc)[area_dsc].count()\n",
    "#crimes_by_area.to_dict()\n",
    "\n",
    "# 4) Seleciona a área com maior ocorrência de crimes\n",
    "crimes_by_area_sorted = crimes_by_area.sort_values(inplace=False, ascending=False)\n",
    "area_most_crimes = crimes_by_area_sorted.index[0]\n",
    "\n",
    "# 5) Cidades distintas na área de maior ocorrência de crimes.\n",
    "locations = crimes_area_not_null[crimes_area_not_null[area_dsc] == area_most_crimes][\"City\"].unique()\n",
    "\n",
    "# 6) Divide a quantidade de crimes encontrados por área, no item 3, pela população da área.\n",
    "# ts = pd.Series(df['Value'].values, index=df['Date'])\n",
    "population_by_area = pd.Series([149118, 182883, 152991, 208263, 131391, 147486],\n",
    "        index=[\"1D\",\"2D\",\"3D\",\"4D\",\"5D\",\"6D\"])\n",
    "\n",
    "# 7) Crimes per capita\n",
    "crimes_per_capita = crimes_by_area.divide(population_by_area)"
   ]
  },
  {
   "cell_type": "code",
   "execution_count": 14,
   "metadata": {
    "scrolled": false
   },
   "outputs": [
    {
     "data": {
      "text/plain": [
       "<matplotlib.axes._subplots.AxesSubplot at 0x15dfcfedfd0>"
      ]
     },
     "execution_count": 14,
     "metadata": {},
     "output_type": "execute_result"
    },
    {
     "data": {
      "image/png": "[encoded data removed]",
      "text/plain": [
       "<matplotlib.figure.Figure at 0x15dfd980860>"
      ]
     },
     "metadata": {},
     "output_type": "display_data"
    }
   ],
   "source": [
    "# 1) In what area did the most crimes occur?\n",
    "sns.barplot(x=crimes_by_area.index,y=crimes_by_area, color=\"indianred\")"
   ]
  },
  {
   "cell_type": "code",
   "execution_count": 15,
   "metadata": {},
   "outputs": [
    {
     "name": "stdout",
     "output_type": "stream",
     "text": [
      "['SILVER SPRING' 'BURTONSVILLE' 'TAKOMA PARK' 'CHEVY CHASE' 'SPENCERVILLE'\n",
      " 'LAUREL']\n"
     ]
    }
   ],
   "source": [
    "# 2) What physical locations (like cities) does this area correspond to?\n",
    "print(locations)"
   ]
  },
  {
   "cell_type": "code",
   "execution_count": null,
   "metadata": {
    "collapsed": true
   },
   "outputs": [],
   "source": [
    "# 3) Which area has the highest number of crimes per capita?\n",
    "sns.barplot(x=crimes_per_capita.index,y=crimes_per_capita, color=\"indianred\")"
   ]
  },
  {
   "cell_type": "markdown",
   "metadata": {},
   "source": [
    "## 5. Analyzing types of crime\n",
    "\n",
    "The <span style=\"background-color: #F9EBEA; color:##C0392B\">Class Description</span> column tells us something about the type of crime that was committed. We can use this column to discover which crimes are committed most often.\n",
    "\n",
    "Here are some initial questions to answer:\n",
    "\n",
    "- Which crimes are the most common? Least common?\n",
    "- Can you split the types of crimes manually into \"Violent\" (caused harm to others or involved weapons) and \"Nonviolent\" (mostly property crimes, like theft? What's the most common violent crime? The most common nonviolent?\n",
    "\n",
    "To manually split up violent and nonviolent crimes, just assign each crime to a category. For example, <span style=\"background-color: #F9EBEA; color:##C0392B\">ASSAULT & BATTERY - CITIZEN</span> is violent, and <span style=\"background-color: #F9EBEA; color:##C0392B\">VANDALISM-MOTOR VEHICLE</span> is nonviolent. It may be useful to create a column called <span style=\"background-color: #F9EBEA; color:##C0392B\">Violent</span>, and then use the [pandas.DataFrame.apply](http://pandas.pydata.org/pandas-docs/stable/generated/pandas.DataFrame.apply.html) method to assign **True** or **False** to each row in the column. For example, if **ASSAULT** is in Class Description, it's violent, but if **LARCENY** is in Class Description, it's nonviolent.\n",
    "\n",
    "Make sure to write up the answers to these questions, along with your code, and explain why you reached the conclusions you did."
   ]
  },
  {
   "cell_type": "code",
   "execution_count": 15,
   "metadata": {},
   "outputs": [
    {
     "data": {
      "text/html": [
       "<div>\n",
       "<style>\n",
       "    .dataframe thead tr:only-child th {\n",
       "        text-align: right;\n",
       "    }\n",
       "\n",
       "    .dataframe thead th {\n",
       "        text-align: left;\n",
       "    }\n",
       "\n",
       "    .dataframe tbody tr th {\n",
       "        vertical-align: top;\n",
       "    }\n",
       "</style>\n",
       "<table border=\"1\" class=\"dataframe\">\n",
       "  <thead>\n",
       "    <tr style=\"text-align: right;\">\n",
       "      <th></th>\n",
       "      <th>Class Description</th>\n",
       "      <th>Count</th>\n",
       "    </tr>\n",
       "  </thead>\n",
       "  <tbody>\n",
       "    <tr>\n",
       "      <th>106</th>\n",
       "      <td>DRIVING UNDER THE INFLUENCE</td>\n",
       "      <td>1710</td>\n",
       "    </tr>\n",
       "    <tr>\n",
       "      <th>89</th>\n",
       "      <td>CDS-POSS MARIJUANA/HASHISH</td>\n",
       "      <td>1334</td>\n",
       "    </tr>\n",
       "    <tr>\n",
       "      <th>188</th>\n",
       "      <td>POL INFORMATION</td>\n",
       "      <td>1191</td>\n",
       "    </tr>\n",
       "    <tr>\n",
       "      <th>158</th>\n",
       "      <td>LARCENY FROM AUTO OVER $200</td>\n",
       "      <td>914</td>\n",
       "    </tr>\n",
       "    <tr>\n",
       "      <th>162</th>\n",
       "      <td>LARCENY FROM BUILDING OVER $200</td>\n",
       "      <td>895</td>\n",
       "    </tr>\n",
       "  </tbody>\n",
       "</table>\n",
       "</div>"
      ],
      "text/plain": [
       "                   Class Description  Count\n",
       "106      DRIVING UNDER THE INFLUENCE   1710\n",
       "89        CDS-POSS MARIJUANA/HASHISH   1334\n",
       "188                  POL INFORMATION   1191\n",
       "158      LARCENY FROM AUTO OVER $200    914\n",
       "162  LARCENY FROM BUILDING OVER $200    895"
      ]
     },
     "execution_count": 15,
     "metadata": {},
     "output_type": "execute_result"
    }
   ],
   "source": [
    "import pandas as pd\n",
    "import numpy as np\n",
    "import matplotlib.pyplot as plt\n",
    "\n",
    "crimes = pd.read_csv(\"MontgomeryCountyCrime2013.csv\")\n",
    "\n",
    "group_classes = crimes.pivot_table(index='Class Description', values=['Incident ID'], aggfunc='count')\n",
    "group_classes.rename(columns={'Incident ID':'Count'}, inplace=True)\n",
    "group_classes.reset_index(inplace=True)\n",
    "\n",
    "# Which crimes are the most common?\n",
    "group_classes.sort_values(by='Count', ascending=False).head(5)"
   ]
  },
  {
   "cell_type": "code",
   "execution_count": 16,
   "metadata": {},
   "outputs": [
    {
     "data": {
      "text/html": [
       "<div>\n",
       "<style>\n",
       "    .dataframe thead tr:only-child th {\n",
       "        text-align: right;\n",
       "    }\n",
       "\n",
       "    .dataframe thead th {\n",
       "        text-align: left;\n",
       "    }\n",
       "\n",
       "    .dataframe tbody tr th {\n",
       "        vertical-align: top;\n",
       "    }\n",
       "</style>\n",
       "<table border=\"1\" class=\"dataframe\">\n",
       "  <thead>\n",
       "    <tr style=\"text-align: right;\">\n",
       "      <th></th>\n",
       "      <th>Class Description</th>\n",
       "      <th>Count</th>\n",
       "    </tr>\n",
       "  </thead>\n",
       "  <tbody>\n",
       "    <tr>\n",
       "      <th>0</th>\n",
       "      <td>ABANDONED AUTO</td>\n",
       "      <td>1</td>\n",
       "    </tr>\n",
       "    <tr>\n",
       "      <th>207</th>\n",
       "      <td>ROB KNIFE/CUT - CONV. STORE</td>\n",
       "      <td>1</td>\n",
       "    </tr>\n",
       "    <tr>\n",
       "      <th>21</th>\n",
       "      <td>ANIMAL OFFENSE - HOT CAR</td>\n",
       "      <td>1</td>\n",
       "    </tr>\n",
       "    <tr>\n",
       "      <th>187</th>\n",
       "      <td>PARKING OFFENSES</td>\n",
       "      <td>1</td>\n",
       "    </tr>\n",
       "    <tr>\n",
       "      <th>154</th>\n",
       "      <td>LARCENY COIN MACH $50-$199</td>\n",
       "      <td>1</td>\n",
       "    </tr>\n",
       "  </tbody>\n",
       "</table>\n",
       "</div>"
      ],
      "text/plain": [
       "               Class Description  Count\n",
       "0                 ABANDONED AUTO      1\n",
       "207  ROB KNIFE/CUT - CONV. STORE      1\n",
       "21      ANIMAL OFFENSE - HOT CAR      1\n",
       "187             PARKING OFFENSES      1\n",
       "154   LARCENY COIN MACH $50-$199      1"
      ]
     },
     "execution_count": 16,
     "metadata": {},
     "output_type": "execute_result"
    }
   ],
   "source": [
    "# Which crimes are the least common?\n",
    "group_classes.sort_values(by='Count').head(5) #Five least common (but there are 31 crimes with count = 1)"
   ]
  },
  {
   "cell_type": "code",
   "execution_count": 17,
   "metadata": {},
   "outputs": [
    {
     "data": {
      "text/html": [
       "<div>\n",
       "<style>\n",
       "    .dataframe thead tr:only-child th {\n",
       "        text-align: right;\n",
       "    }\n",
       "\n",
       "    .dataframe thead th {\n",
       "        text-align: left;\n",
       "    }\n",
       "\n",
       "    .dataframe tbody tr th {\n",
       "        vertical-align: top;\n",
       "    }\n",
       "</style>\n",
       "<table border=\"1\" class=\"dataframe\">\n",
       "  <thead>\n",
       "    <tr style=\"text-align: right;\">\n",
       "      <th></th>\n",
       "      <th>Incident ID</th>\n",
       "      <th>CR Number</th>\n",
       "      <th>Dispatch Date / Time</th>\n",
       "      <th>Class</th>\n",
       "      <th>Class Description</th>\n",
       "      <th>Police District Name</th>\n",
       "      <th>Block Address</th>\n",
       "      <th>City</th>\n",
       "      <th>State</th>\n",
       "      <th>Zip Code</th>\n",
       "      <th>...</th>\n",
       "      <th>Beat</th>\n",
       "      <th>PRA</th>\n",
       "      <th>Start Date / Time</th>\n",
       "      <th>End Date / Time</th>\n",
       "      <th>Latitude</th>\n",
       "      <th>Longitude</th>\n",
       "      <th>Police District Number</th>\n",
       "      <th>Location</th>\n",
       "      <th>Address Number</th>\n",
       "      <th>Violent</th>\n",
       "    </tr>\n",
       "  </thead>\n",
       "  <tbody>\n",
       "    <tr>\n",
       "      <th>0</th>\n",
       "      <td>200939101</td>\n",
       "      <td>13047006</td>\n",
       "      <td>10/02/2013 07:52:41 PM</td>\n",
       "      <td>511</td>\n",
       "      <td>BURG FORCE-RES/NIGHT</td>\n",
       "      <td>OTHER</td>\n",
       "      <td>25700  MT RADNOR DR</td>\n",
       "      <td>DAMASCUS</td>\n",
       "      <td>MD</td>\n",
       "      <td>20872.0</td>\n",
       "      <td>...</td>\n",
       "      <td>NaN</td>\n",
       "      <td>NaN</td>\n",
       "      <td>10/02/2013 07:52:00 PM</td>\n",
       "      <td>NaN</td>\n",
       "      <td>NaN</td>\n",
       "      <td>NaN</td>\n",
       "      <td>OTHER</td>\n",
       "      <td>NaN</td>\n",
       "      <td>25700.0</td>\n",
       "      <td>True</td>\n",
       "    </tr>\n",
       "    <tr>\n",
       "      <th>1</th>\n",
       "      <td>200952042</td>\n",
       "      <td>13062965</td>\n",
       "      <td>12/31/2013 09:46:58 PM</td>\n",
       "      <td>1834</td>\n",
       "      <td>CDS-POSS MARIJUANA/HASHISH</td>\n",
       "      <td>GERMANTOWN</td>\n",
       "      <td>GUNNERS BRANCH  RD</td>\n",
       "      <td>GERMANTOWN</td>\n",
       "      <td>MD</td>\n",
       "      <td>20874.0</td>\n",
       "      <td>...</td>\n",
       "      <td>5M1</td>\n",
       "      <td>470.0</td>\n",
       "      <td>12/31/2013 09:46:00 PM</td>\n",
       "      <td>NaN</td>\n",
       "      <td>NaN</td>\n",
       "      <td>NaN</td>\n",
       "      <td>5D</td>\n",
       "      <td>NaN</td>\n",
       "      <td>NaN</td>\n",
       "      <td>False</td>\n",
       "    </tr>\n",
       "    <tr>\n",
       "      <th>2</th>\n",
       "      <td>200926636</td>\n",
       "      <td>13031483</td>\n",
       "      <td>07/06/2013 09:06:24 AM</td>\n",
       "      <td>1412</td>\n",
       "      <td>VANDALISM-MOTOR VEHICLE</td>\n",
       "      <td>MONTGOMERY VILLAGE</td>\n",
       "      <td>OLDE TOWNE  AVE</td>\n",
       "      <td>GAITHERSBURG</td>\n",
       "      <td>MD</td>\n",
       "      <td>20877.0</td>\n",
       "      <td>...</td>\n",
       "      <td>6P3</td>\n",
       "      <td>431.0</td>\n",
       "      <td>07/06/2013 09:06:00 AM</td>\n",
       "      <td>NaN</td>\n",
       "      <td>NaN</td>\n",
       "      <td>NaN</td>\n",
       "      <td>6D</td>\n",
       "      <td>NaN</td>\n",
       "      <td>NaN</td>\n",
       "      <td>False</td>\n",
       "    </tr>\n",
       "  </tbody>\n",
       "</table>\n",
       "<p>3 rows × 23 columns</p>\n",
       "</div>"
      ],
      "text/plain": [
       "   Incident ID  CR Number    Dispatch Date / Time  Class  \\\n",
       "0    200939101   13047006  10/02/2013 07:52:41 PM    511   \n",
       "1    200952042   13062965  12/31/2013 09:46:58 PM   1834   \n",
       "2    200926636   13031483  07/06/2013 09:06:24 AM   1412   \n",
       "\n",
       "            Class Description Police District Name        Block Address  \\\n",
       "0        BURG FORCE-RES/NIGHT                OTHER  25700  MT RADNOR DR   \n",
       "1  CDS-POSS MARIJUANA/HASHISH           GERMANTOWN   GUNNERS BRANCH  RD   \n",
       "2     VANDALISM-MOTOR VEHICLE   MONTGOMERY VILLAGE      OLDE TOWNE  AVE   \n",
       "\n",
       "           City State  Zip Code   ...   Beat    PRA       Start Date / Time  \\\n",
       "0      DAMASCUS    MD   20872.0   ...    NaN    NaN  10/02/2013 07:52:00 PM   \n",
       "1    GERMANTOWN    MD   20874.0   ...    5M1  470.0  12/31/2013 09:46:00 PM   \n",
       "2  GAITHERSBURG    MD   20877.0   ...    6P3  431.0  07/06/2013 09:06:00 AM   \n",
       "\n",
       "  End Date / Time  Latitude Longitude Police District Number  Location  \\\n",
       "0             NaN       NaN       NaN                  OTHER       NaN   \n",
       "1             NaN       NaN       NaN                     5D       NaN   \n",
       "2             NaN       NaN       NaN                     6D       NaN   \n",
       "\n",
       "   Address Number Violent  \n",
       "0         25700.0    True  \n",
       "1             NaN   False  \n",
       "2             NaN   False  \n",
       "\n",
       "[3 rows x 23 columns]"
      ]
     },
     "execution_count": 17,
     "metadata": {},
     "output_type": "execute_result"
    }
   ],
   "source": [
    "#Can you split the types of crimes manually into \"Violent\" and \"Nonviolent\"?\n",
    "\n",
    "keywords = ['ASSAULT','RAPE','HOMICIDE','ARSON','ABUSE','KIDNAPPING','AGG ASSLT','DRIVING UNDER',\n",
    "            'BURG FORCE','BOMB','FIRE OTHER','ROB ','SEX OFFENDER']\n",
    "\n",
    "def is_violent(row):\n",
    "    class_description = row[\"Class Description\"]\n",
    "    if any(word in class_description for word in keywords):\n",
    "        return True\n",
    "    else:\n",
    "        return False\n",
    "\n",
    "violent = crimes.apply(is_violent, axis=1)\n",
    "crimes['Violent'] = violent\n",
    "\n",
    "crimes.head(3)"
   ]
  },
  {
   "cell_type": "code",
   "execution_count": 18,
   "metadata": {},
   "outputs": [
    {
     "data": {
      "image/png": "[encoded data removed]",
      "text/plain": [
       "<matplotlib.figure.Figure at 0x15d80c190f0>"
      ]
     },
     "metadata": {},
     "output_type": "display_data"
    }
   ],
   "source": [
    "# Pie chart\n",
    "labels = ['Violent', 'NonVionlent']\n",
    "total_rows = crimes.shape[0]\n",
    "\n",
    "total_violent = len(crimes['Violent'][crimes['Violent'] == True])\n",
    "total_nonviolent = 1 - total_violent/total_rows\n",
    "sizes = [total_violent/total_rows, total_nonviolent]\n",
    "color = ['#CD5C5C', '#4AA44A']\n",
    "\n",
    "plt.style.use('ggplot')\n",
    "plt.pie(sizes, colors=color, startangle=90, autopct='%1.1f%%')\n",
    "plt.legend(labels, loc=\"best\")\n",
    "plt.axis('equal')\n",
    "plt.show()"
   ]
  },
  {
   "cell_type": "code",
   "execution_count": 19,
   "metadata": {},
   "outputs": [
    {
     "data": {
      "text/html": [
       "<div>\n",
       "<style>\n",
       "    .dataframe thead tr:only-child th {\n",
       "        text-align: right;\n",
       "    }\n",
       "\n",
       "    .dataframe thead th {\n",
       "        text-align: left;\n",
       "    }\n",
       "\n",
       "    .dataframe tbody tr th {\n",
       "        vertical-align: top;\n",
       "    }\n",
       "</style>\n",
       "<table border=\"1\" class=\"dataframe\">\n",
       "  <thead>\n",
       "    <tr style=\"text-align: right;\">\n",
       "      <th></th>\n",
       "      <th>Violent</th>\n",
       "      <th>Class Description</th>\n",
       "      <th>Count</th>\n",
       "    </tr>\n",
       "  </thead>\n",
       "  <tbody>\n",
       "    <tr>\n",
       "      <th>242</th>\n",
       "      <td>True</td>\n",
       "      <td>DRIVING UNDER THE INFLUENCE</td>\n",
       "      <td>1710</td>\n",
       "    </tr>\n",
       "    <tr>\n",
       "      <th>220</th>\n",
       "      <td>True</td>\n",
       "      <td>ASSAULT &amp; BATTERY - CITIZEN</td>\n",
       "      <td>382</td>\n",
       "    </tr>\n",
       "    <tr>\n",
       "      <th>280</th>\n",
       "      <td>True</td>\n",
       "      <td>SIMPLE ASSAULT - CITIZEN</td>\n",
       "      <td>311</td>\n",
       "    </tr>\n",
       "    <tr>\n",
       "      <th>224</th>\n",
       "      <td>True</td>\n",
       "      <td>ASSAULT &amp; BATTERY SPOUSE/PARTNER</td>\n",
       "      <td>290</td>\n",
       "    </tr>\n",
       "    <tr>\n",
       "      <th>236</th>\n",
       "      <td>True</td>\n",
       "      <td>BURG FORCE-RES/DAY</td>\n",
       "      <td>240</td>\n",
       "    </tr>\n",
       "  </tbody>\n",
       "</table>\n",
       "</div>"
      ],
      "text/plain": [
       "     Violent                 Class Description  Count\n",
       "242     True       DRIVING UNDER THE INFLUENCE   1710\n",
       "220     True       ASSAULT & BATTERY - CITIZEN    382\n",
       "280     True          SIMPLE ASSAULT - CITIZEN    311\n",
       "224     True  ASSAULT & BATTERY SPOUSE/PARTNER    290\n",
       "236     True                BURG FORCE-RES/DAY    240"
      ]
     },
     "execution_count": 19,
     "metadata": {},
     "output_type": "execute_result"
    }
   ],
   "source": [
    "violent_classes = crimes.pivot_table(index=['Violent', 'Class Description'], values=['Incident ID'], aggfunc='count')\n",
    "violent_classes.rename(columns={'Incident ID':'Count'}, inplace=True)\n",
    "violent_classes.reset_index(inplace=True) #removing indexes\n",
    "\n",
    "most_violent = violent_classes.sort_values(by=['Violent','Count'], ascending=[False, False]).head(5) #most common violent crime\n",
    "most_nonviolent = violent_classes.sort_values(by=['Violent','Count'], ascending=[True, False]).head(5) #most common nonviolent crime\n",
    "\n",
    "# What's the most common violent crime?\n",
    "most_violent"
   ]
  },
  {
   "cell_type": "code",
   "execution_count": 20,
   "metadata": {
    "scrolled": true
   },
   "outputs": [
    {
     "data": {
      "text/html": [
       "<div>\n",
       "<style>\n",
       "    .dataframe thead tr:only-child th {\n",
       "        text-align: right;\n",
       "    }\n",
       "\n",
       "    .dataframe thead th {\n",
       "        text-align: left;\n",
       "    }\n",
       "\n",
       "    .dataframe tbody tr th {\n",
       "        vertical-align: top;\n",
       "    }\n",
       "</style>\n",
       "<table border=\"1\" class=\"dataframe\">\n",
       "  <thead>\n",
       "    <tr style=\"text-align: right;\">\n",
       "      <th></th>\n",
       "      <th>Violent</th>\n",
       "      <th>Class Description</th>\n",
       "      <th>Count</th>\n",
       "    </tr>\n",
       "  </thead>\n",
       "  <tbody>\n",
       "    <tr>\n",
       "      <th>49</th>\n",
       "      <td>False</td>\n",
       "      <td>CDS-POSS MARIJUANA/HASHISH</td>\n",
       "      <td>1334</td>\n",
       "    </tr>\n",
       "    <tr>\n",
       "      <th>141</th>\n",
       "      <td>False</td>\n",
       "      <td>POL INFORMATION</td>\n",
       "      <td>1191</td>\n",
       "    </tr>\n",
       "    <tr>\n",
       "      <th>111</th>\n",
       "      <td>False</td>\n",
       "      <td>LARCENY FROM AUTO OVER $200</td>\n",
       "      <td>914</td>\n",
       "    </tr>\n",
       "    <tr>\n",
       "      <th>115</th>\n",
       "      <td>False</td>\n",
       "      <td>LARCENY FROM BUILDING OVER $200</td>\n",
       "      <td>895</td>\n",
       "    </tr>\n",
       "    <tr>\n",
       "      <th>136</th>\n",
       "      <td>False</td>\n",
       "      <td>MENTAL TRANSPORT</td>\n",
       "      <td>841</td>\n",
       "    </tr>\n",
       "  </tbody>\n",
       "</table>\n",
       "</div>"
      ],
      "text/plain": [
       "     Violent                Class Description  Count\n",
       "49     False       CDS-POSS MARIJUANA/HASHISH   1334\n",
       "141    False                  POL INFORMATION   1191\n",
       "111    False      LARCENY FROM AUTO OVER $200    914\n",
       "115    False  LARCENY FROM BUILDING OVER $200    895\n",
       "136    False                 MENTAL TRANSPORT    841"
      ]
     },
     "execution_count": 20,
     "metadata": {},
     "output_type": "execute_result"
    }
   ],
   "source": [
    "# What's the most common nonviolent crime?\n",
    "most_nonviolent"
   ]
  },
  {
   "cell_type": "markdown",
   "metadata": {},
   "source": [
    "## 6. Combine Analysis\n",
    "\n",
    "After doing some analysis on types of crimes, you can combine our analysis with location and time data to answer more complex questions, like:\n",
    "\n",
    "- Where are the most violent crimes committed? How about nonviolent?\n",
    "- When are the most violent crimes committed? How about nonviolent?\n",
    "\n",
    "Make sure to write up the answers to these questions, along with your code, and explain why you reached the conclusions you did."
   ]
  },
  {
   "cell_type": "code",
   "execution_count": 21,
   "metadata": {
    "scrolled": false
   },
   "outputs": [
    {
     "data": {
      "text/plain": [
       "<matplotlib.axes._subplots.AxesSubplot at 0x15d80c3da58>"
      ]
     },
     "execution_count": 21,
     "metadata": {},
     "output_type": "execute_result"
    },
    {
     "data": {
      "image/png": "[encoded data removed]",
      "text/plain": [
       "<matplotlib.figure.Figure at 0x15d811485c0>"
      ]
     },
     "metadata": {},
     "output_type": "display_data"
    }
   ],
   "source": [
    "# 1) Where are the most violent crimes committed?\n",
    "most_violent_count_by_area = crimes[crimes[\"Class Description\"].isin(most_violent[\"Class Description\"])].pivot_table(index=['Police District Number'], values=['Incident ID'], aggfunc='count')\n",
    "most_violent_count_by_area.rename(columns={'Incident ID':'Count'}, inplace=True)\n",
    "most_violent_count_by_area.reset_index(inplace=True) #removing indexes\n",
    "\n",
    "sns.barplot(x=most_violent_count_by_area['Police District Number'], y=most_violent_count_by_area['Count'], color=\"indianred\")"
   ]
  },
  {
   "cell_type": "code",
   "execution_count": 22,
   "metadata": {
    "scrolled": true
   },
   "outputs": [
    {
     "data": {
      "text/plain": [
       "<matplotlib.axes._subplots.AxesSubplot at 0x15d804ef438>"
      ]
     },
     "execution_count": 22,
     "metadata": {},
     "output_type": "execute_result"
    },
    {
     "data": {
      "image/png": "[encoded data removed]",
      "text/plain": [
       "<matplotlib.figure.Figure at 0x15dfd8dd860>"
      ]
     },
     "metadata": {},
     "output_type": "display_data"
    }
   ],
   "source": [
    "# 1) How about nonviolent?\n",
    "most_nonviolent_count_by_area = crimes[crimes[\"Class Description\"].isin(most_nonviolent[\"Class Description\"])].pivot_table(index=['Police District Number'], values=['Incident ID'], aggfunc='count')\n",
    "most_nonviolent_count_by_area.rename(columns={'Incident ID':'Count'}, inplace=True)\n",
    "most_nonviolent_count_by_area.reset_index(inplace=True) #removing indexes\n",
    "\n",
    "sns.barplot(x=most_nonviolent_count_by_area['Police District Number'], y=most_nonviolent_count_by_area['Count'], color=\"blue\")"
   ]
  },
  {
   "cell_type": "code",
   "execution_count": 23,
   "metadata": {},
   "outputs": [
    {
     "name": "stdout",
     "output_type": "stream",
     "text": [
      "   Dispatch Date / Time  Count\n",
      "0                     7    372\n",
      "1                     8    485\n",
      "2                     9    532\n",
      "3                    10    503\n",
      "4                    11    560\n",
      "5                    12    481\n"
     ]
    },
    {
     "data": {
      "text/plain": [
       "[<matplotlib.text.Text at 0x15d805f3fd0>]"
      ]
     },
     "execution_count": 23,
     "metadata": {},
     "output_type": "execute_result"
    },
    {
     "data": {
      "image/png": "[encoded data removed]",
      "text/plain": [
       "<matplotlib.figure.Figure at 0x15d805c8b00>"
      ]
     },
     "metadata": {},
     "output_type": "display_data"
    }
   ],
   "source": [
    "# 2) When are the most violent crimes committed?\n",
    "d_month = pd.to_datetime(crimes['Dispatch Date / Time'])\n",
    "month = d_month.dt.month\n",
    "most_violent_count_by_time = crimes[crimes[\"Class Description\"].isin(most_violent[\"Class Description\"])].pivot_table(index=month, values=['Incident ID'], aggfunc='count')\n",
    "most_violent_count_by_time.rename(columns={'Incident ID':'Count'}, inplace=True)\n",
    "most_violent_count_by_time.reset_index(inplace=True) #removing indexes\n",
    "print(most_violent_count_by_time)\n",
    "\n",
    "ax = sns.barplot(x=most_violent_count_by_time['Dispatch Date / Time'], y=most_violent_count_by_time['Count'], color=\"indianred\")\n",
    "ax.set(xlabel='Month')"
   ]
  },
  {
   "cell_type": "code",
   "execution_count": 24,
   "metadata": {},
   "outputs": [
    {
     "name": "stdout",
     "output_type": "stream",
     "text": [
      "   Dispatch Date / Time  Count\n",
      "0                     7    769\n",
      "1                     8    890\n",
      "2                     9    827\n",
      "3                    10    887\n",
      "4                    11    869\n",
      "5                    12    933\n"
     ]
    },
    {
     "data": {
      "text/plain": [
       "[<matplotlib.text.Text at 0x15d806da668>]"
      ]
     },
     "execution_count": 24,
     "metadata": {},
     "output_type": "execute_result"
    },
    {
     "data": {
      "image/png": "[encoded data removed]",
      "text/plain": [
       "<matplotlib.figure.Figure at 0x15d806c17f0>"
      ]
     },
     "metadata": {},
     "output_type": "display_data"
    }
   ],
   "source": [
    "# 2) How about nonviolent?\n",
    "d_month = pd.to_datetime(crimes['Dispatch Date / Time'])\n",
    "month = d_month.dt.month\n",
    "most_nonviolent_count_by_time = crimes[crimes[\"Class Description\"].isin(most_nonviolent[\"Class Description\"])].pivot_table(index=month, values=['Incident ID'], aggfunc='count')\n",
    "most_nonviolent_count_by_time.rename(columns={'Incident ID':'Count'}, inplace=True)\n",
    "most_nonviolent_count_by_time.reset_index(inplace=True) #removing indexes\n",
    "print(most_nonviolent_count_by_time)\n",
    "\n",
    "ax = sns.barplot(x=most_nonviolent_count_by_time['Dispatch Date / Time'], y=most_nonviolent_count_by_time['Count'], color=\"indianred\")\n",
    "ax.set(xlabel='Month')"
   ]
  },
  {
   "cell_type": "markdown",
   "metadata": {},
   "source": [
    "## 7. Posing and answering your own questions\n",
    "\n",
    "After you've finished exploring the data and answering some directed questions, you should be able to start coming up with some of your own.\n",
    "\n",
    "You can think of questions based on a few strategies:\n",
    "\n",
    "- Expanding or tweaking the directed questions from earlier.\n",
    "- Exploring patterns you found while exploring the data.\n",
    "- Questions based on research you've done about the previous lessons\n",
    "\n",
    "Try to think of at least three questions, then answer them the same way you did in previous screens."
   ]
  },
  {
   "cell_type": "markdown",
   "metadata": {
    "collapsed": true
   },
   "source": [
    "** 2. Which crime most is common by district?**"
   ]
  },
  {
   "cell_type": "code",
   "execution_count": 70,
   "metadata": {},
   "outputs": [
    {
     "data": {
      "text/html": [
       "<div>\n",
       "<style>\n",
       "    .dataframe thead tr:only-child th {\n",
       "        text-align: right;\n",
       "    }\n",
       "\n",
       "    .dataframe thead th {\n",
       "        text-align: left;\n",
       "    }\n",
       "\n",
       "    .dataframe tbody tr th {\n",
       "        vertical-align: top;\n",
       "    }\n",
       "</style>\n",
       "<table border=\"1\" class=\"dataframe\">\n",
       "  <thead>\n",
       "    <tr style=\"text-align: right;\">\n",
       "      <th></th>\n",
       "      <th>Police District Name</th>\n",
       "      <th>Class Description</th>\n",
       "      <th>Count</th>\n",
       "    </tr>\n",
       "  </thead>\n",
       "  <tbody>\n",
       "    <tr>\n",
       "      <th>50</th>\n",
       "      <td>BETHESDA</td>\n",
       "      <td>DRIVING UNDER THE INFLUENCE</td>\n",
       "      <td>263</td>\n",
       "    </tr>\n",
       "    <tr>\n",
       "      <th>232</th>\n",
       "      <td>GERMANTOWN</td>\n",
       "      <td>DRIVING UNDER THE INFLUENCE</td>\n",
       "      <td>252</td>\n",
       "    </tr>\n",
       "    <tr>\n",
       "      <th>416</th>\n",
       "      <td>MONTGOMERY VILLAGE</td>\n",
       "      <td>DRIVING UNDER THE INFLUENCE</td>\n",
       "      <td>295</td>\n",
       "    </tr>\n",
       "    <tr>\n",
       "      <th>553</th>\n",
       "      <td>OTHER</td>\n",
       "      <td>BURG FORCE-RES/NIGHT</td>\n",
       "      <td>1</td>\n",
       "    </tr>\n",
       "    <tr>\n",
       "      <th>554</th>\n",
       "      <td>OTHER</td>\n",
       "      <td>CDS-MANU-HALLUC/LSD/PCP/ETC</td>\n",
       "      <td>1</td>\n",
       "    </tr>\n",
       "    <tr>\n",
       "      <th>555</th>\n",
       "      <td>OTHER</td>\n",
       "      <td>CDS-POSS COCAINE&amp; DERIVATIVES</td>\n",
       "      <td>1</td>\n",
       "    </tr>\n",
       "    <tr>\n",
       "      <th>556</th>\n",
       "      <td>OTHER</td>\n",
       "      <td>CDS-SELL-MARIJUANA/HASHISH</td>\n",
       "      <td>1</td>\n",
       "    </tr>\n",
       "    <tr>\n",
       "      <th>557</th>\n",
       "      <td>OTHER</td>\n",
       "      <td>DRIVING UNDER THE INFLUENCE</td>\n",
       "      <td>1</td>\n",
       "    </tr>\n",
       "    <tr>\n",
       "      <th>558</th>\n",
       "      <td>OTHER</td>\n",
       "      <td>FORGERY/CNTRFT-CHECKS</td>\n",
       "      <td>1</td>\n",
       "    </tr>\n",
       "    <tr>\n",
       "      <th>559</th>\n",
       "      <td>OTHER</td>\n",
       "      <td>LARCENY FROM AUTO $50 - $199</td>\n",
       "      <td>1</td>\n",
       "    </tr>\n",
       "    <tr>\n",
       "      <th>560</th>\n",
       "      <td>OTHER</td>\n",
       "      <td>LARCENY SHOPLIFTING $50 - $199</td>\n",
       "      <td>1</td>\n",
       "    </tr>\n",
       "    <tr>\n",
       "      <th>692</th>\n",
       "      <td>ROCKVILLE</td>\n",
       "      <td>POL INFORMATION</td>\n",
       "      <td>270</td>\n",
       "    </tr>\n",
       "    <tr>\n",
       "      <th>826</th>\n",
       "      <td>SILVER SPRING</td>\n",
       "      <td>CDS-POSS MARIJUANA/HASHISH</td>\n",
       "      <td>382</td>\n",
       "    </tr>\n",
       "    <tr>\n",
       "      <th>983</th>\n",
       "      <td>TAKOMA PARK</td>\n",
       "      <td>CDS-POSS MARIJUANA/HASHISH</td>\n",
       "      <td>4</td>\n",
       "    </tr>\n",
       "    <tr>\n",
       "      <th>1075</th>\n",
       "      <td>WHEATON</td>\n",
       "      <td>DRIVING UNDER THE INFLUENCE</td>\n",
       "      <td>308</td>\n",
       "    </tr>\n",
       "  </tbody>\n",
       "</table>\n",
       "</div>"
      ],
      "text/plain": [
       "     Police District Name               Class Description  Count\n",
       "50               BETHESDA     DRIVING UNDER THE INFLUENCE    263\n",
       "232            GERMANTOWN     DRIVING UNDER THE INFLUENCE    252\n",
       "416    MONTGOMERY VILLAGE     DRIVING UNDER THE INFLUENCE    295\n",
       "553                 OTHER            BURG FORCE-RES/NIGHT      1\n",
       "554                 OTHER     CDS-MANU-HALLUC/LSD/PCP/ETC      1\n",
       "555                 OTHER   CDS-POSS COCAINE& DERIVATIVES      1\n",
       "556                 OTHER      CDS-SELL-MARIJUANA/HASHISH      1\n",
       "557                 OTHER     DRIVING UNDER THE INFLUENCE      1\n",
       "558                 OTHER           FORGERY/CNTRFT-CHECKS      1\n",
       "559                 OTHER    LARCENY FROM AUTO $50 - $199      1\n",
       "560                 OTHER  LARCENY SHOPLIFTING $50 - $199      1\n",
       "692             ROCKVILLE                 POL INFORMATION    270\n",
       "826         SILVER SPRING      CDS-POSS MARIJUANA/HASHISH    382\n",
       "983           TAKOMA PARK      CDS-POSS MARIJUANA/HASHISH      4\n",
       "1075              WHEATON     DRIVING UNDER THE INFLUENCE    308"
      ]
     },
     "execution_count": 70,
     "metadata": {},
     "output_type": "execute_result"
    }
   ],
   "source": [
    "\n",
    "crimes_by_district = crimes.pivot_table(index=['Police District Name', 'Class Description'], values=['Incident ID'], aggfunc='count')\n",
    "crimes_by_district.rename(columns={'Incident ID':'Count'}, inplace=True) # Renaming column\n",
    "crimes_by_district.reset_index(inplace=True) # Removing indexes\n",
    "\n",
    "\n",
    "idx = crimes_by_district.groupby(['Police District Name'])['Count'].transform(max) == crimes_by_district['Count']\n",
    "crimes_by_district[idx]"
   ]
  },
  {
   "cell_type": "code",
   "execution_count": null,
   "metadata": {
    "collapsed": true
   },
   "outputs": [],
   "source": []
  }
 ],
 "metadata": {
  "kernelspec": {
   "display_name": "Python 3",
   "language": "python",
   "name": "python3"
  },
  "language_info": {
   "codemirror_mode": {
    "name": "ipython",
    "version": 3
   },
   "file_extension": ".py",
   "mimetype": "text/x-python",
   "name": "python",
   "nbconvert_exporter": "python",
   "pygments_lexer": "ipython3",
   "version": "3.6.1"
  }
 },
 "nbformat": 4,
 "nbformat_minor": 2
}
